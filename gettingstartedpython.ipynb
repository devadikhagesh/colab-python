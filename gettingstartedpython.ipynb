{
  "nbformat": 4,
  "nbformat_minor": 0,
  "metadata": {
    "colab": {
      "provenance": [],
      "toc_visible": true,
      "authorship_tag": "ABX9TyPae8X3ehbDRF4EnyPzntWn",
      "include_colab_link": true
    },
    "kernelspec": {
      "name": "python3",
      "display_name": "Python 3"
    },
    "language_info": {
      "name": "python"
    }
  },
  "cells": [
    {
      "cell_type": "markdown",
      "metadata": {
        "id": "view-in-github",
        "colab_type": "text"
      },
      "source": [
        "<a href=\"https://colab.research.google.com/github/devadikhagesh/colab-python/blob/main/gettingstartedpython.ipynb\" target=\"_parent\"><img src=\"https://colab.research.google.com/assets/colab-badge.svg\" alt=\"Open In Colab\"/></a>"
      ]
    },
    {
      "cell_type": "markdown",
      "source": [
        "## introduction to python\n"
      ],
      "metadata": {
        "id": "MkXMXcr5xkSX"
      }
    },
    {
      "cell_type": "markdown",
      "source": [
        "## statements in python"
      ],
      "metadata": {
        "id": "Syek2ciTxvWb"
      }
    },
    {
      "cell_type": "markdown",
      "source": [
        "## datastructures : lists and dictionaries"
      ],
      "metadata": {
        "id": "W_HHxsyYx5zu"
      }
    },
    {
      "cell_type": "markdown",
      "source": [
        "##list"
      ],
      "metadata": {
        "id": "xLXcsamMyyWN"
      }
    },
    {
      "cell_type": "code",
      "source": [
        "fruit = [\"apple\", \"orange\"]\n",
        "type(fruit)\n",
        "for myfruit in fruit:\n",
        "  print(f'my fruits is {myfruit}')"
      ],
      "metadata": {
        "colab": {
          "base_uri": "https://localhost:8080/"
        },
        "id": "8WrDlmEJx959",
        "outputId": "78e09b97-31a2-4c0c-b8cf-e8dd68017345"
      },
      "execution_count": 5,
      "outputs": [
        {
          "output_type": "stream",
          "name": "stdout",
          "text": [
            "my fruits is apple\n",
            "my fruits is orange\n"
          ]
        }
      ]
    },
    {
      "cell_type": "markdown",
      "source": [
        "## dictionary"
      ],
      "metadata": {
        "id": "D61a7tfUy1eL"
      }
    },
    {
      "cell_type": "code",
      "source": [
        "food = {\"breakfast\": \"idly\", \"lunch\": \"meal\", \"dinner\": \"chapathi\"}\n",
        "# food.values()\n",
        "# food.keys()\n",
        "for time, food_name in food.items():\n",
        "  print(f'while {time} I eat {food_name}')"
      ],
      "metadata": {
        "colab": {
          "base_uri": "https://localhost:8080/"
        },
        "id": "rXK2dAPXy4hS",
        "outputId": "f72df1b2-93a1-4852-9f87-bbecb3db678d"
      },
      "execution_count": 10,
      "outputs": [
        {
          "output_type": "stream",
          "name": "stdout",
          "text": [
            "while breakfast I eat idly\n",
            "while lunch I eat meal\n",
            "while dinner I eat chapathi\n"
          ]
        }
      ]
    }
  ]
}